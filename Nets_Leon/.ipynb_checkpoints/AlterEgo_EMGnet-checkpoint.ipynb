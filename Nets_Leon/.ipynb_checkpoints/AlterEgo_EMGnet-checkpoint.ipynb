{
 "cells": [
  {
   "cell_type": "code",
   "execution_count": 1,
   "metadata": {},
   "outputs": [],
   "source": [
    "import math\n",
    "import numpy as np\n",
    "from sklearn.utils import shuffle\n",
    "from sklearn.metrics import roc_auc_score, precision_score, recall_score, accuracy_score\n",
    "from sklearn.model_selection import train_test_split\n",
    "import torch\n",
    "import torchvision\n",
    "import torch.nn as nn\n",
    "import torch.nn.functional as F\n",
    "import torch.optim as optim\n",
    "import pandas as pd"
   ]
  },
  {
   "cell_type": "code",
   "execution_count": 31,
   "metadata": {},
   "outputs": [],
   "source": [
    "class Net(nn.Module):\n",
    "    \n",
    "    def __init__(self):\n",
    "        super(Net, self).__init__()\n",
    "        self.conv1 = nn.Conv1d(8, 400, 12)\n",
    "        self.pool1 = nn.MaxPool1d(2, 2)\n",
    "        self.conv2 = nn.Conv1d(400, 400, 6)\n",
    "        self.pool2 = nn.MaxPool1d(2, 2)\n",
    "        self.conv3 = nn.Conv1d(400, 400, 3)\n",
    "        self.pool3 = nn.MaxPool1d(2, 2)\n",
    "        self.conv4 = nn.Conv1d(400, 400, 3)\n",
    "        self.pool4 = nn.MaxPool1d(2, 2)\n",
    "        self.conv5 = nn.Conv1d(400, 400, 3)\n",
    "        self.pool5 = nn.MaxPool1d(2, 2)\n",
    "        self.drop1 = nn.Dropout(0.7)\n",
    "        self.fc1 = nn.Linear(10000, 250)\n",
    "        self.drop2 = nn.Dropout(0.5)\n",
    "        self.softmax = nn.Softmax(dim=0)\n",
    "        \n",
    "    def forward(self, x):\n",
    "        x = self.pool1(F.relu(self.conv1(x)))\n",
    "        x = self.pool2(F.relu(self.conv2(x)))\n",
    "        x = self.pool3(F.relu(self.conv3(x)))\n",
    "        x = self.pool4(F.relu(self.conv4(x)))\n",
    "        x = self.pool5(F.relu(self.conv5(x)))\n",
    "        x = self.drop1(x)\n",
    "        x = torch.flatten(x)\n",
    "        x = F.relu(self.fc1(x))\n",
    "        x = self.drop2(x)\n",
    "        x = self.softmax(x)\n",
    "        return x\n",
    "        \n",
    "\n",
    "model = Net()"
   ]
  },
  {
   "cell_type": "code",
   "execution_count": 32,
   "metadata": {},
   "outputs": [],
   "source": [
    "inputs = torch.randn(1,8,900)\n",
    "outputs = model(inputs.float())"
   ]
  },
  {
   "cell_type": "code",
   "execution_count": 33,
   "metadata": {},
   "outputs": [
    {
     "name": "stdout",
     "output_type": "stream",
     "text": [
      "tensor([0.0040, 0.0042, 0.0039, 0.0039, 0.0044, 0.0039, 0.0039, 0.0039, 0.0039,\n",
      "        0.0039, 0.0041, 0.0040, 0.0039, 0.0039, 0.0039, 0.0041, 0.0039, 0.0039,\n",
      "        0.0039, 0.0039, 0.0039, 0.0039, 0.0039, 0.0039, 0.0039, 0.0040, 0.0039,\n",
      "        0.0039, 0.0039, 0.0039, 0.0039, 0.0042, 0.0047, 0.0040, 0.0039, 0.0041,\n",
      "        0.0039, 0.0039, 0.0039, 0.0039, 0.0040, 0.0039, 0.0041, 0.0039, 0.0039,\n",
      "        0.0039, 0.0039, 0.0039, 0.0039, 0.0043, 0.0039, 0.0039, 0.0039, 0.0039,\n",
      "        0.0039, 0.0039, 0.0039, 0.0039, 0.0039, 0.0039, 0.0039, 0.0043, 0.0039,\n",
      "        0.0039, 0.0039, 0.0039, 0.0039, 0.0039, 0.0039, 0.0040, 0.0039, 0.0041,\n",
      "        0.0039, 0.0039, 0.0041, 0.0041, 0.0039, 0.0043, 0.0039, 0.0041, 0.0039,\n",
      "        0.0040, 0.0039, 0.0039, 0.0042, 0.0039, 0.0043, 0.0047, 0.0039, 0.0039,\n",
      "        0.0039, 0.0041, 0.0039, 0.0039, 0.0039, 0.0039, 0.0043, 0.0039, 0.0039,\n",
      "        0.0039, 0.0039, 0.0039, 0.0040, 0.0039, 0.0039, 0.0039, 0.0043, 0.0039,\n",
      "        0.0039, 0.0039, 0.0039, 0.0039, 0.0042, 0.0039, 0.0039, 0.0042, 0.0039,\n",
      "        0.0039, 0.0039, 0.0042, 0.0039, 0.0039, 0.0044, 0.0047, 0.0039, 0.0039,\n",
      "        0.0039, 0.0039, 0.0039, 0.0043, 0.0040, 0.0039, 0.0039, 0.0039, 0.0039,\n",
      "        0.0039, 0.0039, 0.0040, 0.0039, 0.0039, 0.0039, 0.0039, 0.0039, 0.0039,\n",
      "        0.0039, 0.0039, 0.0039, 0.0039, 0.0039, 0.0039, 0.0039, 0.0039, 0.0042,\n",
      "        0.0039, 0.0039, 0.0039, 0.0039, 0.0039, 0.0041, 0.0039, 0.0039, 0.0039,\n",
      "        0.0041, 0.0039, 0.0045, 0.0040, 0.0039, 0.0039, 0.0039, 0.0039, 0.0039,\n",
      "        0.0039, 0.0039, 0.0039, 0.0043, 0.0039, 0.0039, 0.0039, 0.0039, 0.0039,\n",
      "        0.0039, 0.0039, 0.0044, 0.0040, 0.0039, 0.0040, 0.0039, 0.0039, 0.0039,\n",
      "        0.0039, 0.0039, 0.0039, 0.0039, 0.0039, 0.0039, 0.0039, 0.0039, 0.0039,\n",
      "        0.0039, 0.0042, 0.0041, 0.0042, 0.0039, 0.0039, 0.0039, 0.0042, 0.0039,\n",
      "        0.0041, 0.0039, 0.0039, 0.0039, 0.0039, 0.0039, 0.0039, 0.0040, 0.0039,\n",
      "        0.0039, 0.0039, 0.0039, 0.0039, 0.0039, 0.0039, 0.0039, 0.0039, 0.0042,\n",
      "        0.0046, 0.0039, 0.0043, 0.0039, 0.0039, 0.0039, 0.0039, 0.0039, 0.0039,\n",
      "        0.0039, 0.0039, 0.0039, 0.0039, 0.0039, 0.0040, 0.0039, 0.0039, 0.0039,\n",
      "        0.0039, 0.0039, 0.0039, 0.0039, 0.0039, 0.0039, 0.0040],\n",
      "       grad_fn=<SoftmaxBackward>)\n"
     ]
    }
   ],
   "source": [
    "print(outputs)"
   ]
  },
  {
   "cell_type": "code",
   "execution_count": null,
   "metadata": {},
   "outputs": [],
   "source": []
  }
 ],
 "metadata": {
  "kernelspec": {
   "display_name": "Python 3",
   "language": "python",
   "name": "python3"
  },
  "language_info": {
   "codemirror_mode": {
    "name": "ipython",
    "version": 3
   },
   "file_extension": ".py",
   "mimetype": "text/x-python",
   "name": "python",
   "nbconvert_exporter": "python",
   "pygments_lexer": "ipython3",
   "version": "3.8.3"
  }
 },
 "nbformat": 4,
 "nbformat_minor": 4
}
