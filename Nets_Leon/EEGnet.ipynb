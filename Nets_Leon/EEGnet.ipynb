{
 "cells": [
  {
   "cell_type": "code",
   "execution_count": 12,
   "metadata": {},
   "outputs": [],
   "source": [
    "import numpy as np\n",
    "import pandas as pd\n",
    "import seaborn as sns\n",
    "import matplotlib.pyplot as plt\n",
    "\n",
    "import torch\n",
    "import torch.nn as nn\n",
    "import torch.optim as optim\n",
    "from torch.utils.data import Dataset, DataLoader\n",
    "\n",
    "from sklearn.preprocessing import StandardScaler    \n",
    "from sklearn.model_selection import train_test_split\n",
    "from sklearn.metrics import confusion_matrix, classification_report"
   ]
  },
  {
   "cell_type": "code",
   "execution_count": 43,
   "metadata": {},
   "outputs": [],
   "source": [
    "df = pd.read_csv(\"EEG Eye State.csv\", skiprows = [i for i in range(19)], header=None)\n",
    "df = df.values\n",
    "# 0 - eye_open\n",
    "# 1 - eye_closed"
   ]
  },
  {
   "cell_type": "code",
   "execution_count": 25,
   "metadata": {},
   "outputs": [
    {
     "data": {
      "text/plain": [
       "<matplotlib.axes._subplots.AxesSubplot at 0x12dd6c910>"
      ]
     },
     "execution_count": 25,
     "metadata": {},
     "output_type": "execute_result"
    },
    {
     "data": {
      "image/png": "[encoded data removed]",
      "text/plain": [
       "<Figure size 432x288 with 1 Axes>"
      ]
     },
     "metadata": {
      "needs_background": "light"
     },
     "output_type": "display_data"
    }
   ],
   "source": [
    "sns.countplot(x = '@DATA', data=df)"
   ]
  },
  {
   "cell_type": "code",
   "execution_count": 49,
   "metadata": {},
   "outputs": [],
   "source": [
    "X = df[:,:14]\n",
    "y = df[:,14:]"
   ]
  },
  {
   "cell_type": "code",
   "execution_count": 51,
   "metadata": {},
   "outputs": [],
   "source": [
    "X_train, X_test, y_train, y_test = train_test_split(X, y, test_size=0.33, random_state=69)"
   ]
  },
  {
   "cell_type": "code",
   "execution_count": 53,
   "metadata": {},
   "outputs": [],
   "source": [
    "scaler = StandardScaler()\n",
    "X_train = scaler.fit_transform(X_train)\n",
    "X_test = scaler.fit_transform(X_test)"
   ]
  },
  {
   "cell_type": "code",
   "execution_count": 54,
   "metadata": {},
   "outputs": [],
   "source": [
    "EPOCHS = 50\n",
    "BATCH_SIZE = 64\n",
    "LEARNING_RATE = 0.001"
   ]
  },
  {
   "cell_type": "code",
   "execution_count": 55,
   "metadata": {},
   "outputs": [],
   "source": [
    "## train data\n",
    "class trainData(Dataset):\n",
    "    \n",
    "    def __init__(self, X_data, y_data):\n",
    "        self.X_data = X_data\n",
    "        self.y_data = y_data\n",
    "        \n",
    "    def __getitem__(self, index):\n",
    "        return self.X_data[index], self.y_data[index]\n",
    "        \n",
    "    def __len__ (self):\n",
    "        return len(self.X_data)\n",
    "\n",
    "\n",
    "train_data = trainData(torch.FloatTensor(X_train), \n",
    "                       torch.FloatTensor(y_train))\n",
    "## test data    \n",
    "class testData(Dataset):\n",
    "    \n",
    "    def __init__(self, X_data):\n",
    "        self.X_data = X_data\n",
    "        \n",
    "    def __getitem__(self, index):\n",
    "        return self.X_data[index]\n",
    "        \n",
    "    def __len__ (self):\n",
    "        return len(self.X_data)\n",
    "    \n",
    "\n",
    "test_data = testData(torch.FloatTensor(X_test))"
   ]
  },
  {
   "cell_type": "code",
   "execution_count": 56,
   "metadata": {},
   "outputs": [],
   "source": [
    "train_loader = DataLoader(dataset=train_data, batch_size=BATCH_SIZE, shuffle=True)\n",
    "test_loader = DataLoader(dataset=test_data, batch_size=1)"
   ]
  },
  {
   "cell_type": "code",
   "execution_count": 64,
   "metadata": {},
   "outputs": [],
   "source": [
    "class binaryClassification(nn.Module):\n",
    "    def __init__(self):\n",
    "        super(binaryClassification, self).__init__()\n",
    "        # Number of input features is 12.\n",
    "        self.layer_1 = nn.Linear(14, 64) \n",
    "        self.layer_2 = nn.Linear(64, 64)\n",
    "        self.layer_out = nn.Linear(64, 1) \n",
    "        \n",
    "        self.relu = nn.ReLU()\n",
    "        self.dropout = nn.Dropout(p=0.1)\n",
    "        self.batchnorm1 = nn.BatchNorm1d(64)\n",
    "        self.batchnorm2 = nn.BatchNorm1d(64)\n",
    "        \n",
    "    def forward(self, inputs):\n",
    "        x = self.relu(self.layer_1(inputs))\n",
    "        x = self.batchnorm1(x)\n",
    "        x = self.relu(self.layer_2(x))\n",
    "        x = self.batchnorm2(x)\n",
    "        x = self.dropout(x)\n",
    "        x = self.layer_out(x)\n",
    "        \n",
    "        return x"
   ]
  },
  {
   "cell_type": "code",
   "execution_count": 65,
   "metadata": {},
   "outputs": [
    {
     "name": "stdout",
     "output_type": "stream",
     "text": [
      "cpu\n"
     ]
    }
   ],
   "source": [
    "device = torch.device(\"cuda:0\" if torch.cuda.is_available() else \"cpu\")\n",
    "print(device)"
   ]
  },
  {
   "cell_type": "code",
   "execution_count": 66,
   "metadata": {},
   "outputs": [
    {
     "name": "stdout",
     "output_type": "stream",
     "text": [
      "binaryClassification(\n",
      "  (layer_1): Linear(in_features=14, out_features=64, bias=True)\n",
      "  (layer_2): Linear(in_features=64, out_features=64, bias=True)\n",
      "  (layer_out): Linear(in_features=64, out_features=1, bias=True)\n",
      "  (relu): ReLU()\n",
      "  (dropout): Dropout(p=0.1, inplace=False)\n",
      "  (batchnorm1): BatchNorm1d(64, eps=1e-05, momentum=0.1, affine=True, track_running_stats=True)\n",
      "  (batchnorm2): BatchNorm1d(64, eps=1e-05, momentum=0.1, affine=True, track_running_stats=True)\n",
      ")\n"
     ]
    }
   ],
   "source": [
    "model = binaryClassification()\n",
    "model.to(device)\n",
    "print(model)\n",
    "criterion = nn.BCEWithLogitsLoss()\n",
    "optimizer = optim.Adam(model.parameters(), lr=LEARNING_RATE)"
   ]
  },
  {
   "cell_type": "code",
   "execution_count": 67,
   "metadata": {},
   "outputs": [],
   "source": [
    "def binary_acc(y_pred, y_test):\n",
    "    y_pred_tag = torch.round(torch.sigmoid(y_pred))\n",
    "\n",
    "    correct_results_sum = (y_pred_tag == y_test).sum().float()\n",
    "    acc = correct_results_sum/y_test.shape[0]\n",
    "    acc = torch.round(acc * 100)\n",
    "    \n",
    "    return acc"
   ]
  },
  {
   "cell_type": "code",
   "execution_count": 87,
   "metadata": {},
   "outputs": [
    {
     "name": "stdout",
     "output_type": "stream",
     "text": [
      "Epoch 001: | Loss: 0.30049 | Acc: 87.280\n",
      "Epoch 002: | Loss: 0.27303 | Acc: 88.541\n",
      "Epoch 003: | Loss: 0.26029 | Acc: 89.318\n",
      "Epoch 004: | Loss: 0.24192 | Acc: 90.115\n",
      "Epoch 005: | Loss: 0.23378 | Acc: 90.013\n",
      "Epoch 006: | Loss: 0.21698 | Acc: 90.981\n",
      "Epoch 007: | Loss: 0.20159 | Acc: 91.885\n",
      "Epoch 008: | Loss: 0.20664 | Acc: 91.510\n",
      "Epoch 009: | Loss: 0.19876 | Acc: 92.064\n",
      "Epoch 010: | Loss: 0.18971 | Acc: 92.484\n",
      "Epoch 011: | Loss: 0.19094 | Acc: 92.363\n",
      "Epoch 012: | Loss: 0.17844 | Acc: 92.917\n",
      "Epoch 013: | Loss: 0.17706 | Acc: 92.701\n",
      "Epoch 014: | Loss: 0.17325 | Acc: 93.019\n",
      "Epoch 015: | Loss: 0.16598 | Acc: 93.567\n",
      "Epoch 016: | Loss: 0.15897 | Acc: 93.752\n",
      "Epoch 017: | Loss: 0.15638 | Acc: 93.624\n",
      "Epoch 018: | Loss: 0.15890 | Acc: 93.478\n",
      "Epoch 019: | Loss: 0.15687 | Acc: 93.573\n",
      "Epoch 020: | Loss: 0.15761 | Acc: 93.701\n",
      "Epoch 021: | Loss: 0.13967 | Acc: 94.510\n",
      "Epoch 022: | Loss: 0.14602 | Acc: 94.166\n",
      "Epoch 023: | Loss: 0.14282 | Acc: 94.287\n",
      "Epoch 024: | Loss: 0.14077 | Acc: 94.350\n",
      "Epoch 025: | Loss: 0.14220 | Acc: 94.459\n",
      "Epoch 026: | Loss: 0.14057 | Acc: 94.338\n",
      "Epoch 027: | Loss: 0.13577 | Acc: 94.675\n",
      "Epoch 028: | Loss: 0.13119 | Acc: 94.930\n",
      "Epoch 029: | Loss: 0.12858 | Acc: 94.994\n",
      "Epoch 030: | Loss: 0.12398 | Acc: 95.083\n",
      "Epoch 031: | Loss: 0.13348 | Acc: 94.548\n",
      "Epoch 032: | Loss: 0.12537 | Acc: 95.051\n",
      "Epoch 033: | Loss: 0.13161 | Acc: 94.968\n",
      "Epoch 034: | Loss: 0.12701 | Acc: 94.841\n",
      "Epoch 035: | Loss: 0.11977 | Acc: 95.191\n",
      "Epoch 036: | Loss: 0.12304 | Acc: 95.185\n",
      "Epoch 037: | Loss: 0.11923 | Acc: 95.108\n",
      "Epoch 038: | Loss: 0.12052 | Acc: 95.261\n",
      "Epoch 039: | Loss: 0.11351 | Acc: 95.459\n",
      "Epoch 040: | Loss: 0.12274 | Acc: 95.025\n",
      "Epoch 041: | Loss: 0.11520 | Acc: 95.637\n",
      "Epoch 042: | Loss: 0.11319 | Acc: 95.420\n",
      "Epoch 043: | Loss: 0.11423 | Acc: 95.446\n",
      "Epoch 044: | Loss: 0.12234 | Acc: 95.357\n",
      "Epoch 045: | Loss: 0.11223 | Acc: 95.662\n",
      "Epoch 046: | Loss: 0.11723 | Acc: 95.618\n",
      "Epoch 047: | Loss: 0.10403 | Acc: 95.860\n",
      "Epoch 048: | Loss: 0.10788 | Acc: 95.758\n",
      "Epoch 049: | Loss: 0.10363 | Acc: 96.102\n",
      "Epoch 050: | Loss: 0.10786 | Acc: 95.732\n"
     ]
    }
   ],
   "source": [
    "model.train()\n",
    "for e in range(1, EPOCHS+1):\n",
    "    epoch_loss = 0\n",
    "    epoch_acc = 0\n",
    "    for X_batch, y_batch in train_loader:\n",
    "        \n",
    "        X_batch, y_batch = X_batch.to(device), y_batch.to(device)\n",
    "        optimizer.zero_grad()\n",
    "        \n",
    "        y_pred = model(X_batch)\n",
    "        loss = criterion(y_pred, y_batch)\n",
    "        acc = binary_acc(y_pred, y_batch)\n",
    "        \n",
    "        loss.backward()\n",
    "        optimizer.step()\n",
    "        \n",
    "        epoch_loss += loss.item()\n",
    "        epoch_acc += acc.item()\n",
    "        \n",
    "    print(f'Epoch {e+0:03}: | Loss: {epoch_loss/len(train_loader):.5f} | Acc: {epoch_acc/len(train_loader):.3f}')"
   ]
  },
  {
   "cell_type": "code",
   "execution_count": 88,
   "metadata": {},
   "outputs": [],
   "source": [
    "y_pred_list = []\n",
    "model.eval()\n",
    "with torch.no_grad():\n",
    "    for X_batch in test_loader:\n",
    "        X_batch = X_batch.to(device)\n",
    "        y_test_pred = model(X_batch)\n",
    "        y_test_pred = torch.sigmoid(y_test_pred)\n",
    "        y_pred_tag = torch.round(y_test_pred)\n",
    "        y_pred_list.append(y_pred_tag.cpu().numpy())\n",
    "\n",
    "y_pred_list = [a.squeeze().tolist() for a in y_pred_list]"
   ]
  },
  {
   "cell_type": "code",
   "execution_count": 89,
   "metadata": {},
   "outputs": [
    {
     "data": {
      "text/plain": [
       "array([[1917,  801],\n",
       "       [1088, 1138]])"
      ]
     },
     "execution_count": 89,
     "metadata": {},
     "output_type": "execute_result"
    }
   ],
   "source": [
    "confusion_matrix(y_test, y_pred_list)"
   ]
  },
  {
   "cell_type": "code",
   "execution_count": 90,
   "metadata": {},
   "outputs": [
    {
     "name": "stdout",
     "output_type": "stream",
     "text": [
      "              precision    recall  f1-score   support\n",
      "\n",
      "         0.0       0.64      0.71      0.67      2718\n",
      "         1.0       0.59      0.51      0.55      2226\n",
      "\n",
      "    accuracy                           0.62      4944\n",
      "   macro avg       0.61      0.61      0.61      4944\n",
      "weighted avg       0.61      0.62      0.61      4944\n",
      "\n"
     ]
    }
   ],
   "source": [
    "print(classification_report(y_test, y_pred_list))"
   ]
  }
 ],
 "metadata": {
  "kernelspec": {
   "display_name": "Python 3",
   "language": "python",
   "name": "python3"
  },
  "language_info": {
   "codemirror_mode": {
    "name": "ipython",
    "version": 3
   },
   "file_extension": ".py",
   "mimetype": "text/x-python",
   "name": "python",
   "nbconvert_exporter": "python",
   "pygments_lexer": "ipython3",
   "version": "3.8.3"
  }
 },
 "nbformat": 4,
 "nbformat_minor": 4
}
